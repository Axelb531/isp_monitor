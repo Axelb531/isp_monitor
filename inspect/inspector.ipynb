{
 "cells": [
  {
   "cell_type": "code",
   "execution_count": 78,
   "id": "ac04f3c1",
   "metadata": {},
   "outputs": [],
   "source": [
    "## Exploratory notebook \n",
    "import pandas as pd\n",
    "import json\n",
    "import boto3\n",
    "from dotenv import load_dotenv\n",
    "import os\n",
    "\n",
    "load_dotenv()\n",
    "\n",
    "aws_access_key_id = os.getenv('AWS_ACCESS_KEY_ID')\n",
    "aws_secret_access_key = os.getenv('AWS_SECRET_ACCESS_KEY')\n",
    "region_name = os.getenv('REGION')\n",
    "table_name = os.getenv('TABLE_NAME')\n",
    "\n",
    "# Fetch data \n",
    "dynamodb = boto3.resource('dynamodb',\n",
    "                          aws_access_key_id=aws_access_key_id,\n",
    "                          aws_secret_access_key=aws_secret_access_key,\n",
    "                          region_name=region_name)\n",
    "table = dynamodb.Table(table_name)\n",
    "response = table.scan()\n",
    "data = response['Items']\n",
    "\n",
    "# Init DF\n",
    "df = pd.DataFrame(data)\n",
    "\n",
    "# Sort items based on timestamp\n",
    "df['Index'] = pd.to_datetime(df['Index'])\n",
    "df = df.sort_values(by=\"Index\")\n",
    "\n",
    "df['download_speed'] = df['download'].apply(lambda x: float(x['speed']))\n",
    "df['upload_speed'] = df['upload'].apply(lambda x: float(x['speed']))\n",
    "df['ping_latency'] = df['ping'].apply(lambda x: float(x['latency']))\n"
   ]
  },
  {
   "cell_type": "code",
   "execution_count": 79,
   "id": "d39e75da",
   "metadata": {},
   "outputs": [
    {
     "data": {
      "text/plain": [
       "{'high': Decimal('13.318'),\n",
       " 'jitter': Decimal('1.447'),\n",
       " 'low': Decimal('10.599'),\n",
       " 'latency': Decimal('10.818')}"
      ]
     },
     "execution_count": 79,
     "metadata": {},
     "output_type": "execute_result"
    }
   ],
   "source": [
    "df['ping'][1]"
   ]
  }
 ],
 "metadata": {
  "kernelspec": {
   "display_name": "Python 3 (ipykernel)",
   "language": "python",
   "name": "python3"
  },
  "language_info": {
   "codemirror_mode": {
    "name": "ipython",
    "version": 3
   },
   "file_extension": ".py",
   "mimetype": "text/x-python",
   "name": "python",
   "nbconvert_exporter": "python",
   "pygments_lexer": "ipython3",
   "version": "3.7.7"
  }
 },
 "nbformat": 4,
 "nbformat_minor": 5
}
